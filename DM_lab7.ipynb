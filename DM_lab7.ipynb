{
 "cells": [
  {
   "cell_type": "code",
   "execution_count": 1,
   "metadata": {
    "pycharm": {
     "name": "#%%\n"
    }
   },
   "outputs": [
    {
     "name": "stdout",
     "output_type": "stream",
     "text": [
      "읽은 데이터에서 나이 Series로 히스토그램을 그려라\n"
     ]
    },
    {
     "data": {
      "image/png": "[encoded data removed]",
      "text/plain": [
       "<Figure size 432x288 with 1 Axes>"
      ]
     },
     "metadata": {
      "needs_background": "light"
     },
     "output_type": "display_data"
    },
    {
     "name": "stdout",
     "output_type": "stream",
     "text": [
      "\n",
      "\n",
      "연봉이 가장 높은 사람의 정보를 출력하여라.\n",
      "Name               Kobe Bryant\n",
      "Team        Los Angeles Lakers\n",
      "Position                    SF\n",
      "Age                         37\n",
      "Salary                 2.5e+07\n",
      "Name: 109, dtype: object\n",
      "\n",
      "\n",
      "팀별로 평균연봉을 바형태로 나타나시오.\n"
     ]
    },
    {
     "data": {
      "image/png": "[encoded data removed]",
      "text/plain": [
       "<Figure size 432x288 with 1 Axes>"
      ]
     },
     "metadata": {
      "needs_background": "light"
     },
     "output_type": "display_data"
    },
    {
     "name": "stdout",
     "output_type": "stream",
     "text": [
      "\n",
      "\n",
      "선수들의 출신 학교별로의 인원수를 나타내시오.\n",
      "Kentucky           22\n",
      "Duke               20\n",
      "Kansas             18\n",
      "North Carolina     16\n",
      "UCLA               15\n",
      "                   ..\n",
      "Iowa State          1\n",
      "Houston             1\n",
      "Norfolk State       1\n",
      "DePaul              1\n",
      "Cleveland State     1\n",
      "Name: College, Length: 118, dtype: int64\n",
      "\n",
      "\n",
      "선수들의 평균 연봉과 나이를 출력하시오.\n",
      "Avg Age: 26.938730853391686\n",
      "Avg Salary: 4842684.105381166\n",
      "\n",
      "\n",
      "포지션 별로 이름을 출력하시오.\n",
      "C\n",
      "7         Kelly Olynyk\n",
      "10     Jared Sullinger\n",
      "14        Tyler Zeller\n",
      "23         Brook Lopez\n",
      "27          Henry Sims\n",
      "            ...       \n",
      "434        Chris Kaman\n",
      "439      Mason Plumlee\n",
      "447        Rudy Gobert\n",
      "455       Tibor Pleiss\n",
      "456        Jeff Withey\n",
      "Name: Name, Length: 78, dtype: object\n",
      "PF\n",
      "4         Jonas Jerebko\n",
      "5          Amir Johnson\n",
      "6         Jordan Mickey\n",
      "24     Chris McCullough\n",
      "25          Willie Reed\n",
      "             ...       \n",
      "435      Meyers Leonard\n",
      "441         Noah Vonleh\n",
      "442       Trevor Booker\n",
      "446      Derrick Favors\n",
      "452          Trey Lyles\n",
      "Name: Name, Length: 100, dtype: object\n",
      "PG\n",
      "0      Avery Bradley\n",
      "8       Terry Rozier\n",
      "9       Marcus Smart\n",
      "11     Isaiah Thomas\n",
      "19      Jarrett Jack\n",
      "           ...      \n",
      "440    Brian Roberts\n",
      "443       Trey Burke\n",
      "445       Dante Exum\n",
      "453     Shelvin Mack\n",
      "454        Raul Neto\n",
      "Name: Name, Length: 92, dtype: object\n",
      "SF\n",
      "1                 Jae Crowder\n",
      "32     Thanasis Antetokounmpo\n",
      "33            Carmelo Anthony\n",
      "35           Cleanthony Early\n",
      "42               Lance Thomas\n",
      "                ...          \n",
      "428           Al-Farouq Aminu\n",
      "432          Maurice Harkless\n",
      "448            Gordon Hayward\n",
      "450                Joe Ingles\n",
      "451             Chris Johnson\n",
      "Name: Name, Length: 85, dtype: object\n",
      "SG\n",
      "2          John Holland\n",
      "3           R.J. Hunter\n",
      "12          Evan Turner\n",
      "13          James Young\n",
      "15     Bojan Bogdanovic\n",
      "             ...       \n",
      "433    Gerald Henderson\n",
      "437       C.J. McCollum\n",
      "438        Luis Montero\n",
      "444          Alec Burks\n",
      "449         Rodney Hood\n",
      "Name: Name, Length: 102, dtype: object\n"
     ]
    }
   ],
   "source": [
    "import numpy as np\n",
    "import matplotlib.pyplot as plt\n",
    "import pandas as pd\n",
    "\n",
    "dt= pd.read_csv('nba.csv')\n",
    "print('읽은 데이터에서 나이 Series로 히스토그램을 그려라')\n",
    "age = pd.Series(dt['Age'])\n",
    "plt.figure()\n",
    "plt.hist(age)\n",
    "plt.xlabel('age')\n",
    "plt.ylabel('count')\n",
    "plt.show()\n",
    "print('\\n')\n",
    "dt1=pd.DataFrame(dt)\n",
    "\n",
    "aa=dt1['Salary'].argmax()\n",
    "print('연봉이 가장 높은 사람의 정보를 출력하여라.')\n",
    "print(dt1.loc[aa,['Name','Team','Position','Age','Salary']])\n",
    "print('\\n')\n",
    "\n",
    "print('팀별로 평균연봉을 바형태로 나타나시오.')\n",
    "plt.figure()\n",
    "avg=dt.groupby('Team')['Salary'].mean()\n",
    "gg=dt.groupby('Team')['Salary']\n",
    "l=np.arange(len(avg))\n",
    "plt.bar(l,avg.values)\n",
    "plt.xlabel('Team')\n",
    "plt.ylabel('Salary')\n",
    "plt.show()\n",
    "print('\\n')\n",
    "\n",
    "print('선수들의 출신 학교별로의 인원수를 나타내시오.')\n",
    "print(dt1['College'].value_counts())\n",
    "print('\\n')\n",
    "\n",
    "print('선수들의 평균 연봉과 나이를 출력하시오.')\n",
    "print('Avg Age:',dt1['Age'].mean())\n",
    "print('Avg Salary:',dt1['Salary'].mean())\n",
    "print('\\n')\n",
    "\n",
    "print('포지션 별로 이름을 출력하시오.')\n",
    "a=dt1[dt1.Position=='C']\n",
    "a.index.name='C'\n",
    "print(a.Name)\n",
    "b=dt1[dt1.Position=='PF']\n",
    "b.index.name='PF'\n",
    "print(b.Name)\n",
    "c=dt1[dt1.Position=='PG']\n",
    "c.index.name='PG'\n",
    "print(c.Name)\n",
    "d=dt1[dt1.Position=='SF']\n",
    "d.index.name='SF'\n",
    "print(d.Name)\n",
    "e=dt1[dt1.Position=='SG']\n",
    "e.index.name='SG'\n",
    "print(e.Name)\n"
   ]
  },
  {
   "cell_type": "code",
   "execution_count": 5,
   "metadata": {},
   "outputs": [
    {
     "data": {
      "text/plain": [
       "<pandas.core.groupby.generic.SeriesGroupBy object at 0x000001FBA0AE2708>"
      ]
     },
     "execution_count": 5,
     "metadata": {},
     "output_type": "execute_result"
    }
   ],
   "source": [
    "age\n",
    "avg\n",
    "gg"
   ]
  }
 ],
 "metadata": {
  "kernelspec": {
   "display_name": "Python 3",
   "language": "python",
   "name": "python3"
  },
  "language_info": {
   "codemirror_mode": {
    "name": "ipython",
    "version": 3
   },
   "file_extension": ".py",
   "mimetype": "text/x-python",
   "name": "python",
   "nbconvert_exporter": "python",
   "pygments_lexer": "ipython3",
   "version": "3.7.9"
  }
 },
 "nbformat": 4,
 "nbformat_minor": 1
}
